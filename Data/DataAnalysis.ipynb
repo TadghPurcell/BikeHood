{
 "cells": [
  {
   "cell_type": "code",
   "execution_count": 13,
   "metadata": {},
   "outputs": [],
   "source": [
    "import requests\n",
    "import pymysql\n",
    "from datetime import datetime\n",
    "import logging\n",
    "import os\n",
    "from dotenv import load_dotenv\n",
    "\n",
    "# Load environment variables from .env file\n",
    "load_dotenv()\n",
    "\n",
    "# Set up logging\n",
    "logging.basicConfig(level=logging.INFO)\n",
    "\n",
    "# MySQL database connection settings\n",
    "db_config = {\n",
    "    'user': os.getenv('DB_USER'),\n",
    "    'password': os.getenv('DB_PASSWORD'),\n",
    "    'host': os.getenv('DB_HOST'),\n",
    "    'port': int(os.getenv('DB_PORT')),\n",
    "    'database': os.getenv('DB_NAME'),\n",
    "    #Comment this out when running on local machine\n",
    "    'ssl': {'ca': r'ca-certificate.crt'}\n",
    "  \n",
    "}\n",
    "\n"
   ]
  },
  {
   "cell_type": "code",
   "execution_count": 14,
   "metadata": {},
   "outputs": [],
   "source": [
    "class DatabaseManager:\n",
    "    \"\"\"Class to manage database connections and operations.\"\"\"\n",
    "    \n",
    "    def __init__(self, config):\n",
    "        self.config = config\n",
    "        self.connection = self.establish_connection()\n",
    "\n",
    "    def establish_connection(self):\n",
    "        \"\"\"Establish a connection to the MySQL database.\"\"\"\n",
    "        try:\n",
    "            connection = pymysql.connect(\n",
    "                host=self.config['host'],\n",
    "                user=self.config['user'],\n",
    "                password=self.config['password'],\n",
    "                database=self.config['database'],\n",
    "                port=self.config['port'],\n",
    "                #Comment this out when running on local machine\n",
    "                ssl=self.config['ssl']\n",
    "            )\n",
    "            logging.info(\"Connected to MySQL database\")\n",
    "            return connection\n",
    "        except pymysql.MySQLError as err:\n",
    "            logging.error(f\"Database connection error: {err}\")\n",
    "            return None\n",
    "        \n",
    "    def run_query(self, query):\n",
    "        \"\"\"Run a query on the database.\"\"\"\n",
    "        try:\n",
    "            with self.connection.cursor() as cursor:\n",
    "                cursor.execute(query)\n",
    "                self.connection.commit()\n",
    "                logging.info(\"Query executed successfully\")\n",
    "                #output the result of the query\n",
    "                return cursor.fetchall()\n",
    "        except pymysql.MySQLError as err:\n",
    "            logging.error(f\"Query execution error: {err}\")\n",
    "            return None\n"
   ]
  },
  {
   "cell_type": "code",
   "execution_count": 15,
   "metadata": {},
   "outputs": [
    {
     "name": "stderr",
     "output_type": "stream",
     "text": [
      "INFO:root:Connected to MySQL database\n"
     ]
    }
   ],
   "source": [
    "db_manager = DatabaseManager(db_config)"
   ]
  },
  {
   "cell_type": "code",
   "execution_count": 16,
   "metadata": {},
   "outputs": [
    {
     "name": "stderr",
     "output_type": "stream",
     "text": [
      "INFO:root:Query executed successfully\n"
     ]
    },
    {
     "data": {
      "text/plain": [
       "(('environment',), ('tomtom',))"
      ]
     },
     "execution_count": 16,
     "metadata": {},
     "output_type": "execute_result"
    }
   ],
   "source": [
    "#run a query to show tables\n",
    "query = \"SHOW TABLES\"\n",
    "db_manager.run_query(query)"
   ]
  },
  {
   "cell_type": "code",
   "execution_count": 17,
   "metadata": {},
   "outputs": [
    {
     "name": "stderr",
     "output_type": "stream",
     "text": [
      "INFO:root:Query executed successfully\n"
     ]
    },
    {
     "data": {
      "text/plain": [
       "((3248,),)"
      ]
     },
     "execution_count": 17,
     "metadata": {},
     "output_type": "execute_result"
    }
   ],
   "source": [
    "#query to count all the rows in the table\n",
    "query = \"SELECT COUNT(*) FROM tomtom\"\n",
    "db_manager.run_query(query)"
   ]
  },
  {
   "cell_type": "code",
   "execution_count": 18,
   "metadata": {},
   "outputs": [
    {
     "name": "stderr",
     "output_type": "stream",
     "text": [
      "INFO:root:Query executed successfully\n",
      "INFO:root:Query executed successfully\n"
     ]
    },
    {
     "name": "stdout",
     "output_type": "stream",
     "text": [
      "   0           1     2     3     4     5     6     7     8     9     10\n",
      "0   1  1728369760  49.0  49.0  51.0  51.0  49.0  49.0  51.0  51.0  53.0\n",
      "1   2  1728370802  49.0  49.0  40.0  40.0  49.0  49.0  40.0  40.0  53.0\n",
      "2   3  1728374402  39.0  39.0  37.0  37.0  39.0  39.0  37.0  37.0  45.0\n",
      "3   4  1728378001  49.0  49.0  39.0  39.0  49.0  49.0  39.0  39.0  53.0\n",
      "4   5  1728381601  49.0  49.0  39.0  39.0  49.0  49.0  39.0  39.0  53.0\n",
      "   0           1                        2     3      4              5     6  \\\n",
      "0  1  1728369760  Blanchardstown, Ireland  27.0  12.44     light rain  2.30   \n",
      "1  2  1728370802  Blanchardstown, Ireland  27.0  12.47  broken clouds  0.54   \n",
      "2  3  1728374402  Blanchardstown, Ireland  27.0  12.84  broken clouds  2.13   \n",
      "3  4  1728378001  Blanchardstown, Ireland  26.0  13.18  broken clouds  3.77   \n",
      "4  5  1728381601  Blanchardstown, Ireland  25.0  13.57  broken clouds  3.90   \n",
      "\n",
      "      7  \n",
      "0  0.24  \n",
      "1  0.00  \n",
      "2  0.00  \n",
      "3  0.00  \n",
      "4  0.00  \n"
     ]
    }
   ],
   "source": [
    "import pandas as pd\n",
    "\n",
    "#query to get all the data from the table\n",
    "query = \"SELECT * FROM tomtom\"\n",
    "data = db_manager.run_query(query)\n",
    "\n",
    "#convert the data to a pandas dataframe\n",
    "df_tomtom = pd.DataFrame(data)\n",
    "\n",
    "#show the first 5 rows of the dataframe\n",
    "\n",
    "print(df_tomtom.head())\n",
    "\n",
    "query_env = \"SELECT * FROM environment\"\n",
    "data_env = db_manager.run_query(query_env)\n",
    "df_env = pd.DataFrame(data_env)\n",
    "print(df_env.head())\n",
    "\n"
   ]
  }
 ],
 "metadata": {
  "kernelspec": {
   "display_name": "base",
   "language": "python",
   "name": "python3"
  },
  "language_info": {
   "codemirror_mode": {
    "name": "ipython",
    "version": 3
   },
   "file_extension": ".py",
   "mimetype": "text/x-python",
   "name": "python",
   "nbconvert_exporter": "python",
   "pygments_lexer": "ipython3",
   "version": "3.11.9"
  }
 },
 "nbformat": 4,
 "nbformat_minor": 2
}
